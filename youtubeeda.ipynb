{
 "cells": [
  {
   "cell_type": "code",
   "execution_count": 2,
   "metadata": {},
   "outputs": [],
   "source": [
    "import numpy as np\n",
    "import pandas as pd\n",
    "import matplotlib.pyplot as plt\n",
    "%matplotlib inline \n",
    "import seaborn as sns"
   ]
  },
  {
   "cell_type": "code",
   "execution_count": 3,
   "metadata": {},
   "outputs": [
    {
     "data": {
      "text/html": [
       "<div>\n",
       "<style scoped>\n",
       "    .dataframe tbody tr th:only-of-type {\n",
       "        vertical-align: middle;\n",
       "    }\n",
       "\n",
       "    .dataframe tbody tr th {\n",
       "        vertical-align: top;\n",
       "    }\n",
       "\n",
       "    .dataframe thead th {\n",
       "        text-align: right;\n",
       "    }\n",
       "</style>\n",
       "<table border=\"1\" class=\"dataframe\">\n",
       "  <thead>\n",
       "    <tr style=\"text-align: right;\">\n",
       "      <th></th>\n",
       "      <th>rank</th>\n",
       "      <th>Youtuber</th>\n",
       "      <th>subscribers</th>\n",
       "      <th>video views</th>\n",
       "      <th>category</th>\n",
       "      <th>Title</th>\n",
       "      <th>uploads</th>\n",
       "      <th>Country</th>\n",
       "      <th>Abbreviation</th>\n",
       "      <th>channel_type</th>\n",
       "      <th>...</th>\n",
       "      <th>subscribers_for_last_30_days</th>\n",
       "      <th>created_year</th>\n",
       "      <th>created_month</th>\n",
       "      <th>created_date</th>\n",
       "      <th>Gross tertiary education enrollment (%)</th>\n",
       "      <th>Population</th>\n",
       "      <th>Unemployment rate</th>\n",
       "      <th>Urban_population</th>\n",
       "      <th>Latitude</th>\n",
       "      <th>Longitude</th>\n",
       "    </tr>\n",
       "  </thead>\n",
       "  <tbody>\n",
       "    <tr>\n",
       "      <th>0</th>\n",
       "      <td>1</td>\n",
       "      <td>T-Series</td>\n",
       "      <td>245000000</td>\n",
       "      <td>2.280000e+11</td>\n",
       "      <td>Music</td>\n",
       "      <td>T-Series</td>\n",
       "      <td>20082</td>\n",
       "      <td>India</td>\n",
       "      <td>IN</td>\n",
       "      <td>Music</td>\n",
       "      <td>...</td>\n",
       "      <td>2000000.0</td>\n",
       "      <td>2006.0</td>\n",
       "      <td>Mar</td>\n",
       "      <td>13.0</td>\n",
       "      <td>28.1</td>\n",
       "      <td>1.366418e+09</td>\n",
       "      <td>5.36</td>\n",
       "      <td>471031528.0</td>\n",
       "      <td>20.593684</td>\n",
       "      <td>78.962880</td>\n",
       "    </tr>\n",
       "    <tr>\n",
       "      <th>1</th>\n",
       "      <td>2</td>\n",
       "      <td>YouTube Movies</td>\n",
       "      <td>170000000</td>\n",
       "      <td>0.000000e+00</td>\n",
       "      <td>Film &amp; Animation</td>\n",
       "      <td>youtubemovies</td>\n",
       "      <td>1</td>\n",
       "      <td>United States</td>\n",
       "      <td>US</td>\n",
       "      <td>Games</td>\n",
       "      <td>...</td>\n",
       "      <td>NaN</td>\n",
       "      <td>2006.0</td>\n",
       "      <td>Mar</td>\n",
       "      <td>5.0</td>\n",
       "      <td>88.2</td>\n",
       "      <td>3.282395e+08</td>\n",
       "      <td>14.70</td>\n",
       "      <td>270663028.0</td>\n",
       "      <td>37.090240</td>\n",
       "      <td>-95.712891</td>\n",
       "    </tr>\n",
       "    <tr>\n",
       "      <th>2</th>\n",
       "      <td>3</td>\n",
       "      <td>MrBeast</td>\n",
       "      <td>166000000</td>\n",
       "      <td>2.836884e+10</td>\n",
       "      <td>Entertainment</td>\n",
       "      <td>MrBeast</td>\n",
       "      <td>741</td>\n",
       "      <td>United States</td>\n",
       "      <td>US</td>\n",
       "      <td>Entertainment</td>\n",
       "      <td>...</td>\n",
       "      <td>8000000.0</td>\n",
       "      <td>2012.0</td>\n",
       "      <td>Feb</td>\n",
       "      <td>20.0</td>\n",
       "      <td>88.2</td>\n",
       "      <td>3.282395e+08</td>\n",
       "      <td>14.70</td>\n",
       "      <td>270663028.0</td>\n",
       "      <td>37.090240</td>\n",
       "      <td>-95.712891</td>\n",
       "    </tr>\n",
       "    <tr>\n",
       "      <th>3</th>\n",
       "      <td>4</td>\n",
       "      <td>Cocomelon - Nursery Rhymes</td>\n",
       "      <td>162000000</td>\n",
       "      <td>1.640000e+11</td>\n",
       "      <td>Education</td>\n",
       "      <td>Cocomelon - Nursery Rhymes</td>\n",
       "      <td>966</td>\n",
       "      <td>United States</td>\n",
       "      <td>US</td>\n",
       "      <td>Education</td>\n",
       "      <td>...</td>\n",
       "      <td>1000000.0</td>\n",
       "      <td>2006.0</td>\n",
       "      <td>Sep</td>\n",
       "      <td>1.0</td>\n",
       "      <td>88.2</td>\n",
       "      <td>3.282395e+08</td>\n",
       "      <td>14.70</td>\n",
       "      <td>270663028.0</td>\n",
       "      <td>37.090240</td>\n",
       "      <td>-95.712891</td>\n",
       "    </tr>\n",
       "    <tr>\n",
       "      <th>4</th>\n",
       "      <td>5</td>\n",
       "      <td>SET India</td>\n",
       "      <td>159000000</td>\n",
       "      <td>1.480000e+11</td>\n",
       "      <td>Shows</td>\n",
       "      <td>SET India</td>\n",
       "      <td>116536</td>\n",
       "      <td>India</td>\n",
       "      <td>IN</td>\n",
       "      <td>Entertainment</td>\n",
       "      <td>...</td>\n",
       "      <td>1000000.0</td>\n",
       "      <td>2006.0</td>\n",
       "      <td>Sep</td>\n",
       "      <td>20.0</td>\n",
       "      <td>28.1</td>\n",
       "      <td>1.366418e+09</td>\n",
       "      <td>5.36</td>\n",
       "      <td>471031528.0</td>\n",
       "      <td>20.593684</td>\n",
       "      <td>78.962880</td>\n",
       "    </tr>\n",
       "  </tbody>\n",
       "</table>\n",
       "<p>5 rows × 28 columns</p>\n",
       "</div>"
      ],
      "text/plain": [
       "   rank                    Youtuber  subscribers   video views  \\\n",
       "0     1                    T-Series    245000000  2.280000e+11   \n",
       "1     2              YouTube Movies    170000000  0.000000e+00   \n",
       "2     3                     MrBeast    166000000  2.836884e+10   \n",
       "3     4  Cocomelon - Nursery Rhymes    162000000  1.640000e+11   \n",
       "4     5                   SET India    159000000  1.480000e+11   \n",
       "\n",
       "           category                       Title  uploads        Country  \\\n",
       "0             Music                    T-Series    20082          India   \n",
       "1  Film & Animation               youtubemovies        1  United States   \n",
       "2     Entertainment                     MrBeast      741  United States   \n",
       "3         Education  Cocomelon - Nursery Rhymes      966  United States   \n",
       "4             Shows                   SET India   116536          India   \n",
       "\n",
       "  Abbreviation   channel_type  ...  subscribers_for_last_30_days  \\\n",
       "0           IN          Music  ...                     2000000.0   \n",
       "1           US          Games  ...                           NaN   \n",
       "2           US  Entertainment  ...                     8000000.0   \n",
       "3           US      Education  ...                     1000000.0   \n",
       "4           IN  Entertainment  ...                     1000000.0   \n",
       "\n",
       "   created_year  created_month  created_date  \\\n",
       "0        2006.0            Mar          13.0   \n",
       "1        2006.0            Mar           5.0   \n",
       "2        2012.0            Feb          20.0   \n",
       "3        2006.0            Sep           1.0   \n",
       "4        2006.0            Sep          20.0   \n",
       "\n",
       "   Gross tertiary education enrollment (%)    Population  Unemployment rate  \\\n",
       "0                                     28.1  1.366418e+09               5.36   \n",
       "1                                     88.2  3.282395e+08              14.70   \n",
       "2                                     88.2  3.282395e+08              14.70   \n",
       "3                                     88.2  3.282395e+08              14.70   \n",
       "4                                     28.1  1.366418e+09               5.36   \n",
       "\n",
       "   Urban_population   Latitude  Longitude  \n",
       "0       471031528.0  20.593684  78.962880  \n",
       "1       270663028.0  37.090240 -95.712891  \n",
       "2       270663028.0  37.090240 -95.712891  \n",
       "3       270663028.0  37.090240 -95.712891  \n",
       "4       471031528.0  20.593684  78.962880  \n",
       "\n",
       "[5 rows x 28 columns]"
      ]
     },
     "execution_count": 3,
     "metadata": {},
     "output_type": "execute_result"
    }
   ],
   "source": [
    "df = pd.read_csv(\"C:\\\\Users\\\\imane\\\\Desktop\\\\eda\\\\Global_YouTube_Statistics.csv\",encoding='ISO-8859-1')\n",
    "df.head()"
   ]
  },
  {
   "cell_type": "code",
   "execution_count": 4,
   "metadata": {},
   "outputs": [],
   "source": [
    "df.set_index('rank', inplace = True)"
   ]
  },
  {
   "cell_type": "code",
   "execution_count": 5,
   "metadata": {},
   "outputs": [
    {
     "data": {
      "text/plain": [
       "(995, 27)"
      ]
     },
     "execution_count": 5,
     "metadata": {},
     "output_type": "execute_result"
    }
   ],
   "source": [
    "df.shape"
   ]
  },
  {
   "cell_type": "code",
   "execution_count": 6,
   "metadata": {},
   "outputs": [
    {
     "data": {
      "text/plain": [
       "Index(['Youtuber', 'subscribers', 'video views', 'category', 'Title',\n",
       "       'uploads', 'Country', 'Abbreviation', 'channel_type',\n",
       "       'video_views_rank', 'country_rank', 'channel_type_rank',\n",
       "       'video_views_for_the_last_30_days', 'lowest_monthly_earnings',\n",
       "       'highest_monthly_earnings', 'lowest_yearly_earnings',\n",
       "       'highest_yearly_earnings', 'subscribers_for_last_30_days',\n",
       "       'created_year', 'created_month', 'created_date',\n",
       "       'Gross tertiary education enrollment (%)', 'Population',\n",
       "       'Unemployment rate', 'Urban_population', 'Latitude', 'Longitude'],\n",
       "      dtype='object')"
      ]
     },
     "execution_count": 6,
     "metadata": {},
     "output_type": "execute_result"
    }
   ],
   "source": [
    "df.columns"
   ]
  },
  {
   "cell_type": "code",
   "execution_count": 7,
   "metadata": {},
   "outputs": [
    {
     "data": {
      "text/html": [
       "<div>\n",
       "<style scoped>\n",
       "    .dataframe tbody tr th:only-of-type {\n",
       "        vertical-align: middle;\n",
       "    }\n",
       "\n",
       "    .dataframe tbody tr th {\n",
       "        vertical-align: top;\n",
       "    }\n",
       "\n",
       "    .dataframe thead th {\n",
       "        text-align: right;\n",
       "    }\n",
       "</style>\n",
       "<table border=\"1\" class=\"dataframe\">\n",
       "  <thead>\n",
       "    <tr style=\"text-align: right;\">\n",
       "      <th></th>\n",
       "      <th>subscribers</th>\n",
       "      <th>video views</th>\n",
       "      <th>uploads</th>\n",
       "      <th>video_views_rank</th>\n",
       "      <th>country_rank</th>\n",
       "      <th>channel_type_rank</th>\n",
       "      <th>video_views_for_the_last_30_days</th>\n",
       "      <th>lowest_monthly_earnings</th>\n",
       "      <th>highest_monthly_earnings</th>\n",
       "      <th>lowest_yearly_earnings</th>\n",
       "      <th>highest_yearly_earnings</th>\n",
       "      <th>subscribers_for_last_30_days</th>\n",
       "      <th>created_year</th>\n",
       "      <th>created_date</th>\n",
       "      <th>Gross tertiary education enrollment (%)</th>\n",
       "      <th>Population</th>\n",
       "      <th>Unemployment rate</th>\n",
       "      <th>Urban_population</th>\n",
       "      <th>Latitude</th>\n",
       "      <th>Longitude</th>\n",
       "    </tr>\n",
       "  </thead>\n",
       "  <tbody>\n",
       "    <tr>\n",
       "      <th>count</th>\n",
       "      <td>9.950000e+02</td>\n",
       "      <td>9.950000e+02</td>\n",
       "      <td>995.000000</td>\n",
       "      <td>9.940000e+02</td>\n",
       "      <td>879.000000</td>\n",
       "      <td>962.000000</td>\n",
       "      <td>9.390000e+02</td>\n",
       "      <td>995.000000</td>\n",
       "      <td>9.950000e+02</td>\n",
       "      <td>9.950000e+02</td>\n",
       "      <td>9.950000e+02</td>\n",
       "      <td>6.580000e+02</td>\n",
       "      <td>990.000000</td>\n",
       "      <td>990.000000</td>\n",
       "      <td>872.000000</td>\n",
       "      <td>8.720000e+02</td>\n",
       "      <td>872.000000</td>\n",
       "      <td>8.720000e+02</td>\n",
       "      <td>872.000000</td>\n",
       "      <td>872.000000</td>\n",
       "    </tr>\n",
       "    <tr>\n",
       "      <th>mean</th>\n",
       "      <td>2.298241e+07</td>\n",
       "      <td>1.103954e+10</td>\n",
       "      <td>9187.125628</td>\n",
       "      <td>5.542489e+05</td>\n",
       "      <td>386.053470</td>\n",
       "      <td>745.719335</td>\n",
       "      <td>1.756103e+08</td>\n",
       "      <td>36886.148281</td>\n",
       "      <td>5.898078e+05</td>\n",
       "      <td>4.422574e+05</td>\n",
       "      <td>7.081814e+06</td>\n",
       "      <td>3.490791e+05</td>\n",
       "      <td>2012.630303</td>\n",
       "      <td>15.746465</td>\n",
       "      <td>63.627752</td>\n",
       "      <td>4.303873e+08</td>\n",
       "      <td>9.279278</td>\n",
       "      <td>2.242150e+08</td>\n",
       "      <td>26.632783</td>\n",
       "      <td>-14.128146</td>\n",
       "    </tr>\n",
       "    <tr>\n",
       "      <th>std</th>\n",
       "      <td>1.752611e+07</td>\n",
       "      <td>1.411084e+10</td>\n",
       "      <td>34151.352254</td>\n",
       "      <td>1.362782e+06</td>\n",
       "      <td>1232.244746</td>\n",
       "      <td>1944.386561</td>\n",
       "      <td>4.163782e+08</td>\n",
       "      <td>71858.724092</td>\n",
       "      <td>1.148622e+06</td>\n",
       "      <td>8.612161e+05</td>\n",
       "      <td>1.379704e+07</td>\n",
       "      <td>6.143554e+05</td>\n",
       "      <td>4.512503</td>\n",
       "      <td>8.777520</td>\n",
       "      <td>26.106893</td>\n",
       "      <td>4.727947e+08</td>\n",
       "      <td>4.888354</td>\n",
       "      <td>1.546874e+08</td>\n",
       "      <td>20.560533</td>\n",
       "      <td>84.760809</td>\n",
       "    </tr>\n",
       "    <tr>\n",
       "      <th>min</th>\n",
       "      <td>1.230000e+07</td>\n",
       "      <td>0.000000e+00</td>\n",
       "      <td>0.000000</td>\n",
       "      <td>1.000000e+00</td>\n",
       "      <td>1.000000</td>\n",
       "      <td>1.000000</td>\n",
       "      <td>1.000000e+00</td>\n",
       "      <td>0.000000</td>\n",
       "      <td>0.000000e+00</td>\n",
       "      <td>0.000000e+00</td>\n",
       "      <td>0.000000e+00</td>\n",
       "      <td>1.000000e+00</td>\n",
       "      <td>1970.000000</td>\n",
       "      <td>1.000000</td>\n",
       "      <td>7.600000</td>\n",
       "      <td>2.025060e+05</td>\n",
       "      <td>0.750000</td>\n",
       "      <td>3.558800e+04</td>\n",
       "      <td>-38.416097</td>\n",
       "      <td>-172.104629</td>\n",
       "    </tr>\n",
       "    <tr>\n",
       "      <th>25%</th>\n",
       "      <td>1.450000e+07</td>\n",
       "      <td>4.288145e+09</td>\n",
       "      <td>194.500000</td>\n",
       "      <td>3.230000e+02</td>\n",
       "      <td>11.000000</td>\n",
       "      <td>27.000000</td>\n",
       "      <td>2.013750e+07</td>\n",
       "      <td>2700.000000</td>\n",
       "      <td>4.350000e+04</td>\n",
       "      <td>3.265000e+04</td>\n",
       "      <td>5.217500e+05</td>\n",
       "      <td>1.000000e+05</td>\n",
       "      <td>2009.000000</td>\n",
       "      <td>8.000000</td>\n",
       "      <td>36.300000</td>\n",
       "      <td>8.335541e+07</td>\n",
       "      <td>5.270000</td>\n",
       "      <td>5.590832e+07</td>\n",
       "      <td>20.593684</td>\n",
       "      <td>-95.712891</td>\n",
       "    </tr>\n",
       "    <tr>\n",
       "      <th>50%</th>\n",
       "      <td>1.770000e+07</td>\n",
       "      <td>7.760820e+09</td>\n",
       "      <td>729.000000</td>\n",
       "      <td>9.155000e+02</td>\n",
       "      <td>51.000000</td>\n",
       "      <td>65.500000</td>\n",
       "      <td>6.408500e+07</td>\n",
       "      <td>13300.000000</td>\n",
       "      <td>2.127000e+05</td>\n",
       "      <td>1.595000e+05</td>\n",
       "      <td>2.600000e+06</td>\n",
       "      <td>2.000000e+05</td>\n",
       "      <td>2013.000000</td>\n",
       "      <td>16.000000</td>\n",
       "      <td>68.000000</td>\n",
       "      <td>3.282395e+08</td>\n",
       "      <td>9.365000</td>\n",
       "      <td>2.706630e+08</td>\n",
       "      <td>37.090240</td>\n",
       "      <td>-51.925280</td>\n",
       "    </tr>\n",
       "    <tr>\n",
       "      <th>75%</th>\n",
       "      <td>2.460000e+07</td>\n",
       "      <td>1.355470e+10</td>\n",
       "      <td>2667.500000</td>\n",
       "      <td>3.584500e+03</td>\n",
       "      <td>123.000000</td>\n",
       "      <td>139.750000</td>\n",
       "      <td>1.688265e+08</td>\n",
       "      <td>37900.000000</td>\n",
       "      <td>6.068000e+05</td>\n",
       "      <td>4.551000e+05</td>\n",
       "      <td>7.300000e+06</td>\n",
       "      <td>4.000000e+05</td>\n",
       "      <td>2016.000000</td>\n",
       "      <td>23.000000</td>\n",
       "      <td>88.200000</td>\n",
       "      <td>3.282395e+08</td>\n",
       "      <td>14.700000</td>\n",
       "      <td>2.706630e+08</td>\n",
       "      <td>37.090240</td>\n",
       "      <td>78.962880</td>\n",
       "    </tr>\n",
       "    <tr>\n",
       "      <th>max</th>\n",
       "      <td>2.450000e+08</td>\n",
       "      <td>2.280000e+11</td>\n",
       "      <td>301308.000000</td>\n",
       "      <td>4.057944e+06</td>\n",
       "      <td>7741.000000</td>\n",
       "      <td>7741.000000</td>\n",
       "      <td>6.589000e+09</td>\n",
       "      <td>850900.000000</td>\n",
       "      <td>1.360000e+07</td>\n",
       "      <td>1.020000e+07</td>\n",
       "      <td>1.634000e+08</td>\n",
       "      <td>8.000000e+06</td>\n",
       "      <td>2022.000000</td>\n",
       "      <td>31.000000</td>\n",
       "      <td>113.100000</td>\n",
       "      <td>1.397715e+09</td>\n",
       "      <td>14.720000</td>\n",
       "      <td>8.429340e+08</td>\n",
       "      <td>61.924110</td>\n",
       "      <td>138.252924</td>\n",
       "    </tr>\n",
       "  </tbody>\n",
       "</table>\n",
       "</div>"
      ],
      "text/plain": [
       "        subscribers   video views        uploads  video_views_rank  \\\n",
       "count  9.950000e+02  9.950000e+02     995.000000      9.940000e+02   \n",
       "mean   2.298241e+07  1.103954e+10    9187.125628      5.542489e+05   \n",
       "std    1.752611e+07  1.411084e+10   34151.352254      1.362782e+06   \n",
       "min    1.230000e+07  0.000000e+00       0.000000      1.000000e+00   \n",
       "25%    1.450000e+07  4.288145e+09     194.500000      3.230000e+02   \n",
       "50%    1.770000e+07  7.760820e+09     729.000000      9.155000e+02   \n",
       "75%    2.460000e+07  1.355470e+10    2667.500000      3.584500e+03   \n",
       "max    2.450000e+08  2.280000e+11  301308.000000      4.057944e+06   \n",
       "\n",
       "       country_rank  channel_type_rank  video_views_for_the_last_30_days  \\\n",
       "count    879.000000         962.000000                      9.390000e+02   \n",
       "mean     386.053470         745.719335                      1.756103e+08   \n",
       "std     1232.244746        1944.386561                      4.163782e+08   \n",
       "min        1.000000           1.000000                      1.000000e+00   \n",
       "25%       11.000000          27.000000                      2.013750e+07   \n",
       "50%       51.000000          65.500000                      6.408500e+07   \n",
       "75%      123.000000         139.750000                      1.688265e+08   \n",
       "max     7741.000000        7741.000000                      6.589000e+09   \n",
       "\n",
       "       lowest_monthly_earnings  highest_monthly_earnings  \\\n",
       "count               995.000000              9.950000e+02   \n",
       "mean              36886.148281              5.898078e+05   \n",
       "std               71858.724092              1.148622e+06   \n",
       "min                   0.000000              0.000000e+00   \n",
       "25%                2700.000000              4.350000e+04   \n",
       "50%               13300.000000              2.127000e+05   \n",
       "75%               37900.000000              6.068000e+05   \n",
       "max              850900.000000              1.360000e+07   \n",
       "\n",
       "       lowest_yearly_earnings  highest_yearly_earnings  \\\n",
       "count            9.950000e+02             9.950000e+02   \n",
       "mean             4.422574e+05             7.081814e+06   \n",
       "std              8.612161e+05             1.379704e+07   \n",
       "min              0.000000e+00             0.000000e+00   \n",
       "25%              3.265000e+04             5.217500e+05   \n",
       "50%              1.595000e+05             2.600000e+06   \n",
       "75%              4.551000e+05             7.300000e+06   \n",
       "max              1.020000e+07             1.634000e+08   \n",
       "\n",
       "       subscribers_for_last_30_days  created_year  created_date  \\\n",
       "count                  6.580000e+02    990.000000    990.000000   \n",
       "mean                   3.490791e+05   2012.630303     15.746465   \n",
       "std                    6.143554e+05      4.512503      8.777520   \n",
       "min                    1.000000e+00   1970.000000      1.000000   \n",
       "25%                    1.000000e+05   2009.000000      8.000000   \n",
       "50%                    2.000000e+05   2013.000000     16.000000   \n",
       "75%                    4.000000e+05   2016.000000     23.000000   \n",
       "max                    8.000000e+06   2022.000000     31.000000   \n",
       "\n",
       "       Gross tertiary education enrollment (%)    Population  \\\n",
       "count                               872.000000  8.720000e+02   \n",
       "mean                                 63.627752  4.303873e+08   \n",
       "std                                  26.106893  4.727947e+08   \n",
       "min                                   7.600000  2.025060e+05   \n",
       "25%                                  36.300000  8.335541e+07   \n",
       "50%                                  68.000000  3.282395e+08   \n",
       "75%                                  88.200000  3.282395e+08   \n",
       "max                                 113.100000  1.397715e+09   \n",
       "\n",
       "       Unemployment rate  Urban_population    Latitude   Longitude  \n",
       "count         872.000000      8.720000e+02  872.000000  872.000000  \n",
       "mean            9.279278      2.242150e+08   26.632783  -14.128146  \n",
       "std             4.888354      1.546874e+08   20.560533   84.760809  \n",
       "min             0.750000      3.558800e+04  -38.416097 -172.104629  \n",
       "25%             5.270000      5.590832e+07   20.593684  -95.712891  \n",
       "50%             9.365000      2.706630e+08   37.090240  -51.925280  \n",
       "75%            14.700000      2.706630e+08   37.090240   78.962880  \n",
       "max            14.720000      8.429340e+08   61.924110  138.252924  "
      ]
     },
     "execution_count": 7,
     "metadata": {},
     "output_type": "execute_result"
    }
   ],
   "source": [
    "df.describe()"
   ]
  },
  {
   "cell_type": "code",
   "execution_count": 8,
   "metadata": {},
   "outputs": [
    {
     "data": {
      "text/plain": [
       "Youtuber                                    object\n",
       "subscribers                                  int64\n",
       "video views                                float64\n",
       "category                                    object\n",
       "Title                                       object\n",
       "uploads                                      int64\n",
       "Country                                     object\n",
       "Abbreviation                                object\n",
       "channel_type                                object\n",
       "video_views_rank                           float64\n",
       "country_rank                               float64\n",
       "channel_type_rank                          float64\n",
       "video_views_for_the_last_30_days           float64\n",
       "lowest_monthly_earnings                    float64\n",
       "highest_monthly_earnings                   float64\n",
       "lowest_yearly_earnings                     float64\n",
       "highest_yearly_earnings                    float64\n",
       "subscribers_for_last_30_days               float64\n",
       "created_year                               float64\n",
       "created_month                               object\n",
       "created_date                               float64\n",
       "Gross tertiary education enrollment (%)    float64\n",
       "Population                                 float64\n",
       "Unemployment rate                          float64\n",
       "Urban_population                           float64\n",
       "Latitude                                   float64\n",
       "Longitude                                  float64\n",
       "dtype: object"
      ]
     },
     "execution_count": 8,
     "metadata": {},
     "output_type": "execute_result"
    }
   ],
   "source": [
    "df.dtypes"
   ]
  },
  {
   "cell_type": "code",
   "execution_count": 9,
   "metadata": {},
   "outputs": [
    {
     "name": "stdout",
     "output_type": "stream",
     "text": [
      "<class 'pandas.core.frame.DataFrame'>\n",
      "Index: 995 entries, 1 to 995\n",
      "Data columns (total 27 columns):\n",
      " #   Column                                   Non-Null Count  Dtype  \n",
      "---  ------                                   --------------  -----  \n",
      " 0   Youtuber                                 995 non-null    object \n",
      " 1   subscribers                              995 non-null    int64  \n",
      " 2   video views                              995 non-null    float64\n",
      " 3   category                                 949 non-null    object \n",
      " 4   Title                                    995 non-null    object \n",
      " 5   uploads                                  995 non-null    int64  \n",
      " 6   Country                                  873 non-null    object \n",
      " 7   Abbreviation                             873 non-null    object \n",
      " 8   channel_type                             965 non-null    object \n",
      " 9   video_views_rank                         994 non-null    float64\n",
      " 10  country_rank                             879 non-null    float64\n",
      " 11  channel_type_rank                        962 non-null    float64\n",
      " 12  video_views_for_the_last_30_days         939 non-null    float64\n",
      " 13  lowest_monthly_earnings                  995 non-null    float64\n",
      " 14  highest_monthly_earnings                 995 non-null    float64\n",
      " 15  lowest_yearly_earnings                   995 non-null    float64\n",
      " 16  highest_yearly_earnings                  995 non-null    float64\n",
      " 17  subscribers_for_last_30_days             658 non-null    float64\n",
      " 18  created_year                             990 non-null    float64\n",
      " 19  created_month                            990 non-null    object \n",
      " 20  created_date                             990 non-null    float64\n",
      " 21  Gross tertiary education enrollment (%)  872 non-null    float64\n",
      " 22  Population                               872 non-null    float64\n",
      " 23  Unemployment rate                        872 non-null    float64\n",
      " 24  Urban_population                         872 non-null    float64\n",
      " 25  Latitude                                 872 non-null    float64\n",
      " 26  Longitude                                872 non-null    float64\n",
      "dtypes: float64(18), int64(2), object(7)\n",
      "memory usage: 217.7+ KB\n"
     ]
    }
   ],
   "source": [
    "df.info()"
   ]
  },
  {
   "cell_type": "markdown",
   "metadata": {},
   "source": [
    "Checking null values : "
   ]
  },
  {
   "cell_type": "code",
   "execution_count": 10,
   "metadata": {},
   "outputs": [
    {
     "data": {
      "text/plain": [
       "Youtuber                                     0\n",
       "subscribers                                  0\n",
       "video views                                  0\n",
       "category                                    46\n",
       "Title                                        0\n",
       "uploads                                      0\n",
       "Country                                    122\n",
       "Abbreviation                               122\n",
       "channel_type                                30\n",
       "video_views_rank                             1\n",
       "country_rank                               116\n",
       "channel_type_rank                           33\n",
       "video_views_for_the_last_30_days            56\n",
       "lowest_monthly_earnings                      0\n",
       "highest_monthly_earnings                     0\n",
       "lowest_yearly_earnings                       0\n",
       "highest_yearly_earnings                      0\n",
       "subscribers_for_last_30_days               337\n",
       "created_year                                 5\n",
       "created_month                                5\n",
       "created_date                                 5\n",
       "Gross tertiary education enrollment (%)    123\n",
       "Population                                 123\n",
       "Unemployment rate                          123\n",
       "Urban_population                           123\n",
       "Latitude                                   123\n",
       "Longitude                                  123\n",
       "dtype: int64"
      ]
     },
     "execution_count": 10,
     "metadata": {},
     "output_type": "execute_result"
    }
   ],
   "source": [
    "df.isna().sum()"
   ]
  },
  {
   "cell_type": "code",
   "execution_count": 11,
   "metadata": {},
   "outputs": [
    {
     "data": {
      "text/plain": [
       "array(['Music', 'Film & Animation', 'Entertainment', 'Education', 'Shows',\n",
       "       nan, 'People & Blogs', 'Gaming', 'Sports', 'Howto & Style',\n",
       "       'News & Politics', 'Comedy', 'Trailers', 'Nonprofits & Activism',\n",
       "       'Science & Technology', 'Movies', 'Pets & Animals',\n",
       "       'Autos & Vehicles', 'Travel & Events'], dtype=object)"
      ]
     },
     "execution_count": 11,
     "metadata": {},
     "output_type": "execute_result"
    }
   ],
   "source": [
    "df.category.unique()"
   ]
  },
  {
   "cell_type": "code",
   "execution_count": 12,
   "metadata": {},
   "outputs": [
    {
     "data": {
      "text/plain": [
       "array(['Music', 'Games', 'Entertainment', 'Education', 'People', 'Sports',\n",
       "       'Film', 'News', nan, 'Comedy', 'Howto', 'Nonprofit', 'Autos',\n",
       "       'Tech', 'Animals'], dtype=object)"
      ]
     },
     "execution_count": 12,
     "metadata": {},
     "output_type": "execute_result"
    }
   ],
   "source": [
    "df.channel_type.unique()"
   ]
  },
  {
   "cell_type": "markdown",
   "metadata": {},
   "source": [
    "# dropping the rows where both the channel type and category are null"
   ]
  },
  {
   "cell_type": "code",
   "execution_count": 13,
   "metadata": {},
   "outputs": [],
   "source": [
    "df.dropna(subset=['channel_type','category'], how='all', inplace=True)"
   ]
  },
  {
   "cell_type": "markdown",
   "metadata": {},
   "source": [
    "# filling the rows that has category as null with the corresponding channel type : "
   ]
  },
  {
   "cell_type": "code",
   "execution_count": 14,
   "metadata": {},
   "outputs": [],
   "source": [
    "category_dict = {'Music':'Music','Games':'Gaming','Entertainment':'Entertainment','Education':'Education','People':'People & Blogs','Sports':'Sports',\n",
    "                'Film':'Film & Animation','News':'News & Politics','Comedy':'Comedy','Howto':'Howto & Style','Nonprofit':'Nonprofits & Activism',\n",
    "                'Autos':'Autos & Vehicles','Tech':'Science & Technology','Animals':'Pets & Animals'}"
   ]
  },
  {
   "cell_type": "code",
   "execution_count": 15,
   "metadata": {},
   "outputs": [],
   "source": [
    "category_null_index = df[df.category.isnull()].index"
   ]
  },
  {
   "cell_type": "code",
   "execution_count": 16,
   "metadata": {},
   "outputs": [
    {
     "name": "stderr",
     "output_type": "stream",
     "text": [
      "C:\\Users\\imane\\AppData\\Local\\Temp\\ipykernel_5536\\1068397491.py:1: SettingWithCopyWarning: \n",
      "A value is trying to be set on a copy of a slice from a DataFrame\n",
      "\n",
      "See the caveats in the documentation: https://pandas.pydata.org/pandas-docs/stable/user_guide/indexing.html#returning-a-view-versus-a-copy\n",
      "  df['category'][category_null_index] = df.loc[category_null_index,'channel_type'].apply(lambda x: category_dict[x])\n"
     ]
    }
   ],
   "source": [
    "df['category'][category_null_index] = df.loc[category_null_index,'channel_type'].apply(lambda x: category_dict[x])"
   ]
  },
  {
   "cell_type": "code",
   "execution_count": 17,
   "metadata": {},
   "outputs": [
    {
     "data": {
      "text/plain": [
       "0"
      ]
     },
     "execution_count": 17,
     "metadata": {},
     "output_type": "execute_result"
    }
   ],
   "source": [
    "df.category.isnull().sum()"
   ]
  },
  {
   "cell_type": "code",
   "execution_count": 18,
   "metadata": {},
   "outputs": [
    {
     "data": {
      "text/plain": [
       "27"
      ]
     },
     "execution_count": 18,
     "metadata": {},
     "output_type": "execute_result"
    }
   ],
   "source": [
    "df.channel_type.isnull().sum()"
   ]
  },
  {
   "cell_type": "code",
   "execution_count": 19,
   "metadata": {},
   "outputs": [
    {
     "data": {
      "text/plain": [
       "array(['Music', 'Film & Animation', 'Entertainment', 'Education', 'Shows',\n",
       "       'People & Blogs', 'Gaming', 'Sports', 'Howto & Style',\n",
       "       'News & Politics', 'Comedy', 'Trailers', 'Nonprofits & Activism',\n",
       "       'Science & Technology', 'Movies', 'Pets & Animals',\n",
       "       'Autos & Vehicles', 'Travel & Events'], dtype=object)"
      ]
     },
     "execution_count": 19,
     "metadata": {},
     "output_type": "execute_result"
    }
   ],
   "source": [
    "df.category.unique()"
   ]
  },
  {
   "cell_type": "markdown",
   "metadata": {},
   "source": [
    "## filling the rows that has channel type as null with the corresponding category : "
   ]
  },
  {
   "cell_type": "code",
   "execution_count": 20,
   "metadata": {},
   "outputs": [],
   "source": [
    "channel_type_dict = {'Music':'Music','Gaming':'Games','Entertainment':'Entertainment','Education':'Education','People & Blogs':'People','Sports':'Sports',\n",
    "                'Film & Animation':'Film','News & Politics':'News','Comedy':'Comedy','Howto & Style':'Howto','Nonprofits & Activism':'Nonprofit',\n",
    "                'Autos & Vehicles':'Autos','Science & Technology':'Tech','Pets & Animals':'Animals','Shows':'Shows'}"
   ]
  },
  {
   "cell_type": "code",
   "execution_count": 21,
   "metadata": {},
   "outputs": [],
   "source": [
    "channel_type_null_index = df[df.channel_type.isnull()].index\n"
   ]
  },
  {
   "cell_type": "code",
   "execution_count": 22,
   "metadata": {},
   "outputs": [
    {
     "name": "stderr",
     "output_type": "stream",
     "text": [
      "C:\\Users\\imane\\AppData\\Local\\Temp\\ipykernel_5536\\983687700.py:1: SettingWithCopyWarning: \n",
      "A value is trying to be set on a copy of a slice from a DataFrame\n",
      "\n",
      "See the caveats in the documentation: https://pandas.pydata.org/pandas-docs/stable/user_guide/indexing.html#returning-a-view-versus-a-copy\n",
      "  df['channel_type'][channel_type_null_index] = df.loc[channel_type_null_index,'category'].apply(lambda x: channel_type_dict[x])\n"
     ]
    }
   ],
   "source": [
    "df['channel_type'][channel_type_null_index] = df.loc[channel_type_null_index,'category'].apply(lambda x: channel_type_dict[x])"
   ]
  },
  {
   "cell_type": "code",
   "execution_count": 23,
   "metadata": {},
   "outputs": [
    {
     "data": {
      "text/plain": [
       "0"
      ]
     },
     "execution_count": 23,
     "metadata": {},
     "output_type": "execute_result"
    }
   ],
   "source": [
    "df.channel_type.isnull().sum()"
   ]
  },
  {
   "cell_type": "code",
   "execution_count": 24,
   "metadata": {},
   "outputs": [
    {
     "data": {
      "text/plain": [
       "Youtuber                                     0\n",
       "subscribers                                  0\n",
       "video views                                  0\n",
       "category                                     0\n",
       "Title                                        0\n",
       "uploads                                      0\n",
       "Country                                    119\n",
       "Abbreviation                               119\n",
       "channel_type                                 0\n",
       "video_views_rank                             1\n",
       "country_rank                               113\n",
       "channel_type_rank                           30\n",
       "video_views_for_the_last_30_days            53\n",
       "lowest_monthly_earnings                      0\n",
       "highest_monthly_earnings                     0\n",
       "lowest_yearly_earnings                       0\n",
       "highest_yearly_earnings                      0\n",
       "subscribers_for_last_30_days               334\n",
       "created_year                                 5\n",
       "created_month                                5\n",
       "created_date                                 5\n",
       "Gross tertiary education enrollment (%)    120\n",
       "Population                                 120\n",
       "Unemployment rate                          120\n",
       "Urban_population                           120\n",
       "Latitude                                   120\n",
       "Longitude                                  120\n",
       "dtype: int64"
      ]
     },
     "execution_count": 24,
     "metadata": {},
     "output_type": "execute_result"
    }
   ],
   "source": [
    "df.isnull().sum()"
   ]
  },
  {
   "cell_type": "code",
   "execution_count": 25,
   "metadata": {},
   "outputs": [],
   "source": [
    "df = df.dropna()\n"
   ]
  },
  {
   "cell_type": "code",
   "execution_count": 26,
   "metadata": {},
   "outputs": [
    {
     "data": {
      "text/plain": [
       "Youtuber                                   0\n",
       "subscribers                                0\n",
       "video views                                0\n",
       "category                                   0\n",
       "Title                                      0\n",
       "uploads                                    0\n",
       "Country                                    0\n",
       "Abbreviation                               0\n",
       "channel_type                               0\n",
       "video_views_rank                           0\n",
       "country_rank                               0\n",
       "channel_type_rank                          0\n",
       "video_views_for_the_last_30_days           0\n",
       "lowest_monthly_earnings                    0\n",
       "highest_monthly_earnings                   0\n",
       "lowest_yearly_earnings                     0\n",
       "highest_yearly_earnings                    0\n",
       "subscribers_for_last_30_days               0\n",
       "created_year                               0\n",
       "created_month                              0\n",
       "created_date                               0\n",
       "Gross tertiary education enrollment (%)    0\n",
       "Population                                 0\n",
       "Unemployment rate                          0\n",
       "Urban_population                           0\n",
       "Latitude                                   0\n",
       "Longitude                                  0\n",
       "dtype: int64"
      ]
     },
     "execution_count": 26,
     "metadata": {},
     "output_type": "execute_result"
    }
   ],
   "source": [
    "df.isna().sum()"
   ]
  },
  {
   "cell_type": "code",
   "execution_count": 27,
   "metadata": {},
   "outputs": [
    {
     "data": {
      "text/html": [
       "<div>\n",
       "<style scoped>\n",
       "    .dataframe tbody tr th:only-of-type {\n",
       "        vertical-align: middle;\n",
       "    }\n",
       "\n",
       "    .dataframe tbody tr th {\n",
       "        vertical-align: top;\n",
       "    }\n",
       "\n",
       "    .dataframe thead th {\n",
       "        text-align: right;\n",
       "    }\n",
       "</style>\n",
       "<table border=\"1\" class=\"dataframe\">\n",
       "  <thead>\n",
       "    <tr style=\"text-align: right;\">\n",
       "      <th></th>\n",
       "      <th>Youtuber</th>\n",
       "      <th>subscribers</th>\n",
       "      <th>video views</th>\n",
       "      <th>category</th>\n",
       "      <th>Title</th>\n",
       "      <th>uploads</th>\n",
       "      <th>Country</th>\n",
       "      <th>Abbreviation</th>\n",
       "      <th>channel_type</th>\n",
       "      <th>video_views_rank</th>\n",
       "      <th>...</th>\n",
       "      <th>subscribers_for_last_30_days</th>\n",
       "      <th>created_year</th>\n",
       "      <th>created_month</th>\n",
       "      <th>created_date</th>\n",
       "      <th>Gross tertiary education enrollment (%)</th>\n",
       "      <th>Population</th>\n",
       "      <th>Unemployment rate</th>\n",
       "      <th>Urban_population</th>\n",
       "      <th>Latitude</th>\n",
       "      <th>Longitude</th>\n",
       "    </tr>\n",
       "  </thead>\n",
       "  <tbody>\n",
       "    <tr>\n",
       "      <th>0</th>\n",
       "      <td>T-Series</td>\n",
       "      <td>245000000</td>\n",
       "      <td>2.280000e+11</td>\n",
       "      <td>Music</td>\n",
       "      <td>T-Series</td>\n",
       "      <td>20082</td>\n",
       "      <td>India</td>\n",
       "      <td>IN</td>\n",
       "      <td>Music</td>\n",
       "      <td>1.0</td>\n",
       "      <td>...</td>\n",
       "      <td>2000000.0</td>\n",
       "      <td>2006.0</td>\n",
       "      <td>Mar</td>\n",
       "      <td>13.0</td>\n",
       "      <td>28.1</td>\n",
       "      <td>1.366418e+09</td>\n",
       "      <td>5.36</td>\n",
       "      <td>471031528.0</td>\n",
       "      <td>20.593684</td>\n",
       "      <td>78.962880</td>\n",
       "    </tr>\n",
       "    <tr>\n",
       "      <th>1</th>\n",
       "      <td>MrBeast</td>\n",
       "      <td>166000000</td>\n",
       "      <td>2.836884e+10</td>\n",
       "      <td>Entertainment</td>\n",
       "      <td>MrBeast</td>\n",
       "      <td>741</td>\n",
       "      <td>United States</td>\n",
       "      <td>US</td>\n",
       "      <td>Entertainment</td>\n",
       "      <td>48.0</td>\n",
       "      <td>...</td>\n",
       "      <td>8000000.0</td>\n",
       "      <td>2012.0</td>\n",
       "      <td>Feb</td>\n",
       "      <td>20.0</td>\n",
       "      <td>88.2</td>\n",
       "      <td>3.282395e+08</td>\n",
       "      <td>14.70</td>\n",
       "      <td>270663028.0</td>\n",
       "      <td>37.090240</td>\n",
       "      <td>-95.712891</td>\n",
       "    </tr>\n",
       "    <tr>\n",
       "      <th>2</th>\n",
       "      <td>Cocomelon - Nursery Rhymes</td>\n",
       "      <td>162000000</td>\n",
       "      <td>1.640000e+11</td>\n",
       "      <td>Education</td>\n",
       "      <td>Cocomelon - Nursery Rhymes</td>\n",
       "      <td>966</td>\n",
       "      <td>United States</td>\n",
       "      <td>US</td>\n",
       "      <td>Education</td>\n",
       "      <td>2.0</td>\n",
       "      <td>...</td>\n",
       "      <td>1000000.0</td>\n",
       "      <td>2006.0</td>\n",
       "      <td>Sep</td>\n",
       "      <td>1.0</td>\n",
       "      <td>88.2</td>\n",
       "      <td>3.282395e+08</td>\n",
       "      <td>14.70</td>\n",
       "      <td>270663028.0</td>\n",
       "      <td>37.090240</td>\n",
       "      <td>-95.712891</td>\n",
       "    </tr>\n",
       "    <tr>\n",
       "      <th>3</th>\n",
       "      <td>SET India</td>\n",
       "      <td>159000000</td>\n",
       "      <td>1.480000e+11</td>\n",
       "      <td>Shows</td>\n",
       "      <td>SET India</td>\n",
       "      <td>116536</td>\n",
       "      <td>India</td>\n",
       "      <td>IN</td>\n",
       "      <td>Entertainment</td>\n",
       "      <td>3.0</td>\n",
       "      <td>...</td>\n",
       "      <td>1000000.0</td>\n",
       "      <td>2006.0</td>\n",
       "      <td>Sep</td>\n",
       "      <td>20.0</td>\n",
       "      <td>28.1</td>\n",
       "      <td>1.366418e+09</td>\n",
       "      <td>5.36</td>\n",
       "      <td>471031528.0</td>\n",
       "      <td>20.593684</td>\n",
       "      <td>78.962880</td>\n",
       "    </tr>\n",
       "    <tr>\n",
       "      <th>4</th>\n",
       "      <td>Like Nastya</td>\n",
       "      <td>106000000</td>\n",
       "      <td>9.047906e+10</td>\n",
       "      <td>People &amp; Blogs</td>\n",
       "      <td>Like Nastya Vlog</td>\n",
       "      <td>493</td>\n",
       "      <td>Russia</td>\n",
       "      <td>RU</td>\n",
       "      <td>People</td>\n",
       "      <td>630.0</td>\n",
       "      <td>...</td>\n",
       "      <td>100000.0</td>\n",
       "      <td>2016.0</td>\n",
       "      <td>Jan</td>\n",
       "      <td>14.0</td>\n",
       "      <td>81.9</td>\n",
       "      <td>1.443735e+08</td>\n",
       "      <td>4.59</td>\n",
       "      <td>107683889.0</td>\n",
       "      <td>61.524010</td>\n",
       "      <td>105.318756</td>\n",
       "    </tr>\n",
       "    <tr>\n",
       "      <th>...</th>\n",
       "      <td>...</td>\n",
       "      <td>...</td>\n",
       "      <td>...</td>\n",
       "      <td>...</td>\n",
       "      <td>...</td>\n",
       "      <td>...</td>\n",
       "      <td>...</td>\n",
       "      <td>...</td>\n",
       "      <td>...</td>\n",
       "      <td>...</td>\n",
       "      <td>...</td>\n",
       "      <td>...</td>\n",
       "      <td>...</td>\n",
       "      <td>...</td>\n",
       "      <td>...</td>\n",
       "      <td>...</td>\n",
       "      <td>...</td>\n",
       "      <td>...</td>\n",
       "      <td>...</td>\n",
       "      <td>...</td>\n",
       "      <td>...</td>\n",
       "    </tr>\n",
       "    <tr>\n",
       "      <th>583</th>\n",
       "      <td>Natan por Aï¿</td>\n",
       "      <td>12300000</td>\n",
       "      <td>9.029610e+09</td>\n",
       "      <td>Sports</td>\n",
       "      <td>Natan por Aï¿</td>\n",
       "      <td>1200</td>\n",
       "      <td>Brazil</td>\n",
       "      <td>BR</td>\n",
       "      <td>Entertainment</td>\n",
       "      <td>525.0</td>\n",
       "      <td>...</td>\n",
       "      <td>700000.0</td>\n",
       "      <td>2017.0</td>\n",
       "      <td>Feb</td>\n",
       "      <td>12.0</td>\n",
       "      <td>51.3</td>\n",
       "      <td>2.125594e+08</td>\n",
       "      <td>12.08</td>\n",
       "      <td>183241641.0</td>\n",
       "      <td>-14.235004</td>\n",
       "      <td>-51.925280</td>\n",
       "    </tr>\n",
       "    <tr>\n",
       "      <th>584</th>\n",
       "      <td>Free Fire India Official</td>\n",
       "      <td>12300000</td>\n",
       "      <td>1.674410e+09</td>\n",
       "      <td>People &amp; Blogs</td>\n",
       "      <td>Free Fire India Official</td>\n",
       "      <td>1500</td>\n",
       "      <td>India</td>\n",
       "      <td>IN</td>\n",
       "      <td>Games</td>\n",
       "      <td>6141.0</td>\n",
       "      <td>...</td>\n",
       "      <td>300000.0</td>\n",
       "      <td>2018.0</td>\n",
       "      <td>Sep</td>\n",
       "      <td>14.0</td>\n",
       "      <td>28.1</td>\n",
       "      <td>1.366418e+09</td>\n",
       "      <td>5.36</td>\n",
       "      <td>471031528.0</td>\n",
       "      <td>20.593684</td>\n",
       "      <td>78.962880</td>\n",
       "    </tr>\n",
       "    <tr>\n",
       "      <th>585</th>\n",
       "      <td>Panda</td>\n",
       "      <td>12300000</td>\n",
       "      <td>2.214684e+09</td>\n",
       "      <td>Gaming</td>\n",
       "      <td>HybridPanda</td>\n",
       "      <td>2452</td>\n",
       "      <td>United Kingdom</td>\n",
       "      <td>GB</td>\n",
       "      <td>Games</td>\n",
       "      <td>129005.0</td>\n",
       "      <td>...</td>\n",
       "      <td>1000.0</td>\n",
       "      <td>2006.0</td>\n",
       "      <td>Sep</td>\n",
       "      <td>11.0</td>\n",
       "      <td>60.0</td>\n",
       "      <td>6.683440e+07</td>\n",
       "      <td>3.85</td>\n",
       "      <td>55908316.0</td>\n",
       "      <td>55.378051</td>\n",
       "      <td>-3.435973</td>\n",
       "    </tr>\n",
       "    <tr>\n",
       "      <th>586</th>\n",
       "      <td>RobTopGames</td>\n",
       "      <td>12300000</td>\n",
       "      <td>3.741235e+08</td>\n",
       "      <td>Gaming</td>\n",
       "      <td>RobTopGames</td>\n",
       "      <td>39</td>\n",
       "      <td>Sweden</td>\n",
       "      <td>SE</td>\n",
       "      <td>Games</td>\n",
       "      <td>35112.0</td>\n",
       "      <td>...</td>\n",
       "      <td>100000.0</td>\n",
       "      <td>2012.0</td>\n",
       "      <td>May</td>\n",
       "      <td>9.0</td>\n",
       "      <td>67.0</td>\n",
       "      <td>1.028545e+07</td>\n",
       "      <td>6.48</td>\n",
       "      <td>9021165.0</td>\n",
       "      <td>60.128161</td>\n",
       "      <td>18.643501</td>\n",
       "    </tr>\n",
       "    <tr>\n",
       "      <th>587</th>\n",
       "      <td>Make Joke Of</td>\n",
       "      <td>12300000</td>\n",
       "      <td>2.129774e+09</td>\n",
       "      <td>Comedy</td>\n",
       "      <td>Make Joke Of</td>\n",
       "      <td>62</td>\n",
       "      <td>India</td>\n",
       "      <td>IN</td>\n",
       "      <td>Comedy</td>\n",
       "      <td>4568.0</td>\n",
       "      <td>...</td>\n",
       "      <td>100000.0</td>\n",
       "      <td>2017.0</td>\n",
       "      <td>Aug</td>\n",
       "      <td>1.0</td>\n",
       "      <td>28.1</td>\n",
       "      <td>1.366418e+09</td>\n",
       "      <td>5.36</td>\n",
       "      <td>471031528.0</td>\n",
       "      <td>20.593684</td>\n",
       "      <td>78.962880</td>\n",
       "    </tr>\n",
       "  </tbody>\n",
       "</table>\n",
       "<p>588 rows × 27 columns</p>\n",
       "</div>"
      ],
      "text/plain": [
       "                       Youtuber  subscribers   video views        category  \\\n",
       "0                      T-Series    245000000  2.280000e+11           Music   \n",
       "1                       MrBeast    166000000  2.836884e+10   Entertainment   \n",
       "2    Cocomelon - Nursery Rhymes    162000000  1.640000e+11       Education   \n",
       "3                     SET India    159000000  1.480000e+11           Shows   \n",
       "4                   Like Nastya    106000000  9.047906e+10  People & Blogs   \n",
       "..                          ...          ...           ...             ...   \n",
       "583               Natan por Aï¿     12300000  9.029610e+09          Sports   \n",
       "584    Free Fire India Official     12300000  1.674410e+09  People & Blogs   \n",
       "585                       Panda     12300000  2.214684e+09          Gaming   \n",
       "586                 RobTopGames     12300000  3.741235e+08          Gaming   \n",
       "587                Make Joke Of     12300000  2.129774e+09          Comedy   \n",
       "\n",
       "                          Title  uploads         Country Abbreviation  \\\n",
       "0                      T-Series    20082           India           IN   \n",
       "1                       MrBeast      741   United States           US   \n",
       "2    Cocomelon - Nursery Rhymes      966   United States           US   \n",
       "3                     SET India   116536           India           IN   \n",
       "4              Like Nastya Vlog      493          Russia           RU   \n",
       "..                          ...      ...             ...          ...   \n",
       "583               Natan por Aï¿     1200          Brazil           BR   \n",
       "584    Free Fire India Official     1500           India           IN   \n",
       "585                 HybridPanda     2452  United Kingdom           GB   \n",
       "586                 RobTopGames       39          Sweden           SE   \n",
       "587                Make Joke Of       62           India           IN   \n",
       "\n",
       "      channel_type  video_views_rank  ...  subscribers_for_last_30_days  \\\n",
       "0            Music               1.0  ...                     2000000.0   \n",
       "1    Entertainment              48.0  ...                     8000000.0   \n",
       "2        Education               2.0  ...                     1000000.0   \n",
       "3    Entertainment               3.0  ...                     1000000.0   \n",
       "4           People             630.0  ...                      100000.0   \n",
       "..             ...               ...  ...                           ...   \n",
       "583  Entertainment             525.0  ...                      700000.0   \n",
       "584          Games            6141.0  ...                      300000.0   \n",
       "585          Games          129005.0  ...                        1000.0   \n",
       "586          Games           35112.0  ...                      100000.0   \n",
       "587         Comedy            4568.0  ...                      100000.0   \n",
       "\n",
       "     created_year  created_month  created_date  \\\n",
       "0          2006.0            Mar          13.0   \n",
       "1          2012.0            Feb          20.0   \n",
       "2          2006.0            Sep           1.0   \n",
       "3          2006.0            Sep          20.0   \n",
       "4          2016.0            Jan          14.0   \n",
       "..            ...            ...           ...   \n",
       "583        2017.0            Feb          12.0   \n",
       "584        2018.0            Sep          14.0   \n",
       "585        2006.0            Sep          11.0   \n",
       "586        2012.0            May           9.0   \n",
       "587        2017.0            Aug           1.0   \n",
       "\n",
       "     Gross tertiary education enrollment (%)    Population  Unemployment rate  \\\n",
       "0                                       28.1  1.366418e+09               5.36   \n",
       "1                                       88.2  3.282395e+08              14.70   \n",
       "2                                       88.2  3.282395e+08              14.70   \n",
       "3                                       28.1  1.366418e+09               5.36   \n",
       "4                                       81.9  1.443735e+08               4.59   \n",
       "..                                       ...           ...                ...   \n",
       "583                                     51.3  2.125594e+08              12.08   \n",
       "584                                     28.1  1.366418e+09               5.36   \n",
       "585                                     60.0  6.683440e+07               3.85   \n",
       "586                                     67.0  1.028545e+07               6.48   \n",
       "587                                     28.1  1.366418e+09               5.36   \n",
       "\n",
       "     Urban_population   Latitude   Longitude  \n",
       "0         471031528.0  20.593684   78.962880  \n",
       "1         270663028.0  37.090240  -95.712891  \n",
       "2         270663028.0  37.090240  -95.712891  \n",
       "3         471031528.0  20.593684   78.962880  \n",
       "4         107683889.0  61.524010  105.318756  \n",
       "..                ...        ...         ...  \n",
       "583       183241641.0 -14.235004  -51.925280  \n",
       "584       471031528.0  20.593684   78.962880  \n",
       "585        55908316.0  55.378051   -3.435973  \n",
       "586         9021165.0  60.128161   18.643501  \n",
       "587       471031528.0  20.593684   78.962880  \n",
       "\n",
       "[588 rows x 27 columns]"
      ]
     },
     "execution_count": 27,
     "metadata": {},
     "output_type": "execute_result"
    }
   ],
   "source": [
    "df.reset_index(drop=True, inplace=True)\n",
    "df"
   ]
  },
  {
   "cell_type": "code",
   "execution_count": 28,
   "metadata": {},
   "outputs": [
    {
     "data": {
      "text/html": [
       "<div>\n",
       "<style scoped>\n",
       "    .dataframe tbody tr th:only-of-type {\n",
       "        vertical-align: middle;\n",
       "    }\n",
       "\n",
       "    .dataframe tbody tr th {\n",
       "        vertical-align: top;\n",
       "    }\n",
       "\n",
       "    .dataframe thead th {\n",
       "        text-align: right;\n",
       "    }\n",
       "</style>\n",
       "<table border=\"1\" class=\"dataframe\">\n",
       "  <thead>\n",
       "    <tr style=\"text-align: right;\">\n",
       "      <th></th>\n",
       "      <th>Youtuber</th>\n",
       "      <th>subscribers</th>\n",
       "      <th>video views</th>\n",
       "      <th>category</th>\n",
       "      <th>Title</th>\n",
       "      <th>uploads</th>\n",
       "      <th>Country</th>\n",
       "      <th>Abbreviation</th>\n",
       "      <th>channel_type</th>\n",
       "      <th>video_views_rank</th>\n",
       "      <th>...</th>\n",
       "      <th>subscribers_for_last_30_days</th>\n",
       "      <th>created_year</th>\n",
       "      <th>created_month</th>\n",
       "      <th>created_date</th>\n",
       "      <th>Gross tertiary education enrollment (%)</th>\n",
       "      <th>Population</th>\n",
       "      <th>Unemployment rate</th>\n",
       "      <th>Urban_population</th>\n",
       "      <th>Latitude</th>\n",
       "      <th>Longitude</th>\n",
       "    </tr>\n",
       "  </thead>\n",
       "  <tbody>\n",
       "    <tr>\n",
       "      <th>1</th>\n",
       "      <td>T-Series</td>\n",
       "      <td>245000000</td>\n",
       "      <td>2.280000e+11</td>\n",
       "      <td>Music</td>\n",
       "      <td>T-Series</td>\n",
       "      <td>20082</td>\n",
       "      <td>India</td>\n",
       "      <td>IN</td>\n",
       "      <td>Music</td>\n",
       "      <td>1.0</td>\n",
       "      <td>...</td>\n",
       "      <td>2000000.0</td>\n",
       "      <td>2006.0</td>\n",
       "      <td>Mar</td>\n",
       "      <td>13.0</td>\n",
       "      <td>28.1</td>\n",
       "      <td>1.366418e+09</td>\n",
       "      <td>5.36</td>\n",
       "      <td>471031528.0</td>\n",
       "      <td>20.593684</td>\n",
       "      <td>78.962880</td>\n",
       "    </tr>\n",
       "    <tr>\n",
       "      <th>2</th>\n",
       "      <td>MrBeast</td>\n",
       "      <td>166000000</td>\n",
       "      <td>2.836884e+10</td>\n",
       "      <td>Entertainment</td>\n",
       "      <td>MrBeast</td>\n",
       "      <td>741</td>\n",
       "      <td>United States</td>\n",
       "      <td>US</td>\n",
       "      <td>Entertainment</td>\n",
       "      <td>48.0</td>\n",
       "      <td>...</td>\n",
       "      <td>8000000.0</td>\n",
       "      <td>2012.0</td>\n",
       "      <td>Feb</td>\n",
       "      <td>20.0</td>\n",
       "      <td>88.2</td>\n",
       "      <td>3.282395e+08</td>\n",
       "      <td>14.70</td>\n",
       "      <td>270663028.0</td>\n",
       "      <td>37.090240</td>\n",
       "      <td>-95.712891</td>\n",
       "    </tr>\n",
       "    <tr>\n",
       "      <th>3</th>\n",
       "      <td>Cocomelon - Nursery Rhymes</td>\n",
       "      <td>162000000</td>\n",
       "      <td>1.640000e+11</td>\n",
       "      <td>Education</td>\n",
       "      <td>Cocomelon - Nursery Rhymes</td>\n",
       "      <td>966</td>\n",
       "      <td>United States</td>\n",
       "      <td>US</td>\n",
       "      <td>Education</td>\n",
       "      <td>2.0</td>\n",
       "      <td>...</td>\n",
       "      <td>1000000.0</td>\n",
       "      <td>2006.0</td>\n",
       "      <td>Sep</td>\n",
       "      <td>1.0</td>\n",
       "      <td>88.2</td>\n",
       "      <td>3.282395e+08</td>\n",
       "      <td>14.70</td>\n",
       "      <td>270663028.0</td>\n",
       "      <td>37.090240</td>\n",
       "      <td>-95.712891</td>\n",
       "    </tr>\n",
       "    <tr>\n",
       "      <th>4</th>\n",
       "      <td>SET India</td>\n",
       "      <td>159000000</td>\n",
       "      <td>1.480000e+11</td>\n",
       "      <td>Shows</td>\n",
       "      <td>SET India</td>\n",
       "      <td>116536</td>\n",
       "      <td>India</td>\n",
       "      <td>IN</td>\n",
       "      <td>Entertainment</td>\n",
       "      <td>3.0</td>\n",
       "      <td>...</td>\n",
       "      <td>1000000.0</td>\n",
       "      <td>2006.0</td>\n",
       "      <td>Sep</td>\n",
       "      <td>20.0</td>\n",
       "      <td>28.1</td>\n",
       "      <td>1.366418e+09</td>\n",
       "      <td>5.36</td>\n",
       "      <td>471031528.0</td>\n",
       "      <td>20.593684</td>\n",
       "      <td>78.962880</td>\n",
       "    </tr>\n",
       "    <tr>\n",
       "      <th>5</th>\n",
       "      <td>Like Nastya</td>\n",
       "      <td>106000000</td>\n",
       "      <td>9.047906e+10</td>\n",
       "      <td>People &amp; Blogs</td>\n",
       "      <td>Like Nastya Vlog</td>\n",
       "      <td>493</td>\n",
       "      <td>Russia</td>\n",
       "      <td>RU</td>\n",
       "      <td>People</td>\n",
       "      <td>630.0</td>\n",
       "      <td>...</td>\n",
       "      <td>100000.0</td>\n",
       "      <td>2016.0</td>\n",
       "      <td>Jan</td>\n",
       "      <td>14.0</td>\n",
       "      <td>81.9</td>\n",
       "      <td>1.443735e+08</td>\n",
       "      <td>4.59</td>\n",
       "      <td>107683889.0</td>\n",
       "      <td>61.524010</td>\n",
       "      <td>105.318756</td>\n",
       "    </tr>\n",
       "  </tbody>\n",
       "</table>\n",
       "<p>5 rows × 27 columns</p>\n",
       "</div>"
      ],
      "text/plain": [
       "                     Youtuber  subscribers   video views        category  \\\n",
       "1                    T-Series    245000000  2.280000e+11           Music   \n",
       "2                     MrBeast    166000000  2.836884e+10   Entertainment   \n",
       "3  Cocomelon - Nursery Rhymes    162000000  1.640000e+11       Education   \n",
       "4                   SET India    159000000  1.480000e+11           Shows   \n",
       "5                 Like Nastya    106000000  9.047906e+10  People & Blogs   \n",
       "\n",
       "                        Title  uploads        Country Abbreviation  \\\n",
       "1                    T-Series    20082          India           IN   \n",
       "2                     MrBeast      741  United States           US   \n",
       "3  Cocomelon - Nursery Rhymes      966  United States           US   \n",
       "4                   SET India   116536          India           IN   \n",
       "5            Like Nastya Vlog      493         Russia           RU   \n",
       "\n",
       "    channel_type  video_views_rank  ...  subscribers_for_last_30_days  \\\n",
       "1          Music               1.0  ...                     2000000.0   \n",
       "2  Entertainment              48.0  ...                     8000000.0   \n",
       "3      Education               2.0  ...                     1000000.0   \n",
       "4  Entertainment               3.0  ...                     1000000.0   \n",
       "5         People             630.0  ...                      100000.0   \n",
       "\n",
       "   created_year  created_month  created_date  \\\n",
       "1        2006.0            Mar          13.0   \n",
       "2        2012.0            Feb          20.0   \n",
       "3        2006.0            Sep           1.0   \n",
       "4        2006.0            Sep          20.0   \n",
       "5        2016.0            Jan          14.0   \n",
       "\n",
       "   Gross tertiary education enrollment (%)    Population  Unemployment rate  \\\n",
       "1                                     28.1  1.366418e+09               5.36   \n",
       "2                                     88.2  3.282395e+08              14.70   \n",
       "3                                     88.2  3.282395e+08              14.70   \n",
       "4                                     28.1  1.366418e+09               5.36   \n",
       "5                                     81.9  1.443735e+08               4.59   \n",
       "\n",
       "   Urban_population   Latitude   Longitude  \n",
       "1       471031528.0  20.593684   78.962880  \n",
       "2       270663028.0  37.090240  -95.712891  \n",
       "3       270663028.0  37.090240  -95.712891  \n",
       "4       471031528.0  20.593684   78.962880  \n",
       "5       107683889.0  61.524010  105.318756  \n",
       "\n",
       "[5 rows x 27 columns]"
      ]
     },
     "execution_count": 28,
     "metadata": {},
     "output_type": "execute_result"
    }
   ],
   "source": [
    "# adjusting the rank position\n",
    "df.index = df.index + 1\n",
    "df.head()"
   ]
  },
  {
   "cell_type": "markdown",
   "metadata": {},
   "source": [
    "Checking for duplicate rows : "
   ]
  },
  {
   "cell_type": "code",
   "execution_count": 29,
   "metadata": {},
   "outputs": [
    {
     "data": {
      "text/plain": [
       "0"
      ]
     },
     "execution_count": 29,
     "metadata": {},
     "output_type": "execute_result"
    }
   ],
   "source": [
    "# Assuming 'df' is your DataFrame\n",
    "duplicates = df.duplicated()\n",
    "num_duplicates = duplicates.sum()\n",
    "num_duplicates\n"
   ]
  },
  {
   "cell_type": "markdown",
   "metadata": {},
   "source": [
    "There are no duplicate rows."
   ]
  },
  {
   "cell_type": "markdown",
   "metadata": {},
   "source": [
    "Visualisation : "
   ]
  },
  {
   "cell_type": "code",
   "execution_count": 30,
   "metadata": {},
   "outputs": [
    {
     "data": {
      "text/plain": [
       "array([2006., 2012., 2016., 2018., 2014., 2007., 2008., 2005., 2011.,\n",
       "       2013., 2010., 2009., 2015., 2017., 1970., 2020., 2019., 2021.,\n",
       "       2022.])"
      ]
     },
     "execution_count": 30,
     "metadata": {},
     "output_type": "execute_result"
    }
   ],
   "source": [
    "df['created_year'].unique()"
   ]
  },
  {
   "cell_type": "markdown",
   "metadata": {},
   "source": [
    "We notice the year 1970, which it is not valid because youtube was created in 2005, so we will drop the rows that has the creation year 1970 in it "
   ]
  },
  {
   "cell_type": "code",
   "execution_count": 31,
   "metadata": {},
   "outputs": [
    {
     "data": {
      "text/html": [
       "<div>\n",
       "<style scoped>\n",
       "    .dataframe tbody tr th:only-of-type {\n",
       "        vertical-align: middle;\n",
       "    }\n",
       "\n",
       "    .dataframe tbody tr th {\n",
       "        vertical-align: top;\n",
       "    }\n",
       "\n",
       "    .dataframe thead th {\n",
       "        text-align: right;\n",
       "    }\n",
       "</style>\n",
       "<table border=\"1\" class=\"dataframe\">\n",
       "  <thead>\n",
       "    <tr style=\"text-align: right;\">\n",
       "      <th></th>\n",
       "      <th>Youtuber</th>\n",
       "      <th>subscribers</th>\n",
       "      <th>video views</th>\n",
       "      <th>category</th>\n",
       "      <th>Title</th>\n",
       "      <th>uploads</th>\n",
       "      <th>Country</th>\n",
       "      <th>Abbreviation</th>\n",
       "      <th>channel_type</th>\n",
       "      <th>video_views_rank</th>\n",
       "      <th>...</th>\n",
       "      <th>subscribers_for_last_30_days</th>\n",
       "      <th>created_year</th>\n",
       "      <th>created_month</th>\n",
       "      <th>created_date</th>\n",
       "      <th>Gross tertiary education enrollment (%)</th>\n",
       "      <th>Population</th>\n",
       "      <th>Unemployment rate</th>\n",
       "      <th>Urban_population</th>\n",
       "      <th>Latitude</th>\n",
       "      <th>Longitude</th>\n",
       "    </tr>\n",
       "  </thead>\n",
       "  <tbody>\n",
       "    <tr>\n",
       "      <th>77</th>\n",
       "      <td>YouTube</td>\n",
       "      <td>36300000</td>\n",
       "      <td>3.010785e+09</td>\n",
       "      <td>News &amp; Politics</td>\n",
       "      <td>YouTube</td>\n",
       "      <td>744</td>\n",
       "      <td>United States</td>\n",
       "      <td>US</td>\n",
       "      <td>Entertainment</td>\n",
       "      <td>2860.0</td>\n",
       "      <td>...</td>\n",
       "      <td>300000.0</td>\n",
       "      <td>1970.0</td>\n",
       "      <td>Jan</td>\n",
       "      <td>1.0</td>\n",
       "      <td>88.2</td>\n",
       "      <td>328239523.0</td>\n",
       "      <td>14.7</td>\n",
       "      <td>270663028.0</td>\n",
       "      <td>37.09024</td>\n",
       "      <td>-95.712891</td>\n",
       "    </tr>\n",
       "  </tbody>\n",
       "</table>\n",
       "<p>1 rows × 27 columns</p>\n",
       "</div>"
      ],
      "text/plain": [
       "   Youtuber  subscribers   video views         category    Title  uploads  \\\n",
       "77  YouTube     36300000  3.010785e+09  News & Politics  YouTube      744   \n",
       "\n",
       "          Country Abbreviation   channel_type  video_views_rank  ...  \\\n",
       "77  United States           US  Entertainment            2860.0  ...   \n",
       "\n",
       "    subscribers_for_last_30_days  created_year  created_month  created_date  \\\n",
       "77                      300000.0        1970.0            Jan           1.0   \n",
       "\n",
       "    Gross tertiary education enrollment (%)   Population  Unemployment rate  \\\n",
       "77                                     88.2  328239523.0               14.7   \n",
       "\n",
       "    Urban_population  Latitude  Longitude  \n",
       "77       270663028.0  37.09024 -95.712891  \n",
       "\n",
       "[1 rows x 27 columns]"
      ]
     },
     "execution_count": 31,
     "metadata": {},
     "output_type": "execute_result"
    }
   ],
   "source": [
    "df[df.created_year==1970]"
   ]
  },
  {
   "cell_type": "code",
   "execution_count": 32,
   "metadata": {},
   "outputs": [],
   "source": [
    "df.drop(df[df['created_year']==1970].index, inplace=True)"
   ]
  },
  {
   "cell_type": "markdown",
   "metadata": {},
   "source": [
    "Checking uploads and video views columns : "
   ]
  },
  {
   "cell_type": "code",
   "execution_count": 33,
   "metadata": {},
   "outputs": [
    {
     "data": {
      "text/html": [
       "<div>\n",
       "<style scoped>\n",
       "    .dataframe tbody tr th:only-of-type {\n",
       "        vertical-align: middle;\n",
       "    }\n",
       "\n",
       "    .dataframe tbody tr th {\n",
       "        vertical-align: top;\n",
       "    }\n",
       "\n",
       "    .dataframe thead th {\n",
       "        text-align: right;\n",
       "    }\n",
       "</style>\n",
       "<table border=\"1\" class=\"dataframe\">\n",
       "  <thead>\n",
       "    <tr style=\"text-align: right;\">\n",
       "      <th></th>\n",
       "      <th>Youtuber</th>\n",
       "      <th>subscribers</th>\n",
       "      <th>video views</th>\n",
       "      <th>category</th>\n",
       "      <th>Title</th>\n",
       "      <th>uploads</th>\n",
       "      <th>Country</th>\n",
       "      <th>Abbreviation</th>\n",
       "      <th>channel_type</th>\n",
       "      <th>video_views_rank</th>\n",
       "      <th>...</th>\n",
       "      <th>subscribers_for_last_30_days</th>\n",
       "      <th>created_year</th>\n",
       "      <th>created_month</th>\n",
       "      <th>created_date</th>\n",
       "      <th>Gross tertiary education enrollment (%)</th>\n",
       "      <th>Population</th>\n",
       "      <th>Unemployment rate</th>\n",
       "      <th>Urban_population</th>\n",
       "      <th>Latitude</th>\n",
       "      <th>Longitude</th>\n",
       "    </tr>\n",
       "  </thead>\n",
       "  <tbody>\n",
       "  </tbody>\n",
       "</table>\n",
       "<p>0 rows × 27 columns</p>\n",
       "</div>"
      ],
      "text/plain": [
       "Empty DataFrame\n",
       "Columns: [Youtuber, subscribers, video views, category, Title, uploads, Country, Abbreviation, channel_type, video_views_rank, country_rank, channel_type_rank, video_views_for_the_last_30_days, lowest_monthly_earnings, highest_monthly_earnings, lowest_yearly_earnings, highest_yearly_earnings, subscribers_for_last_30_days, created_year, created_month, created_date, Gross tertiary education enrollment (%), Population, Unemployment rate, Urban_population, Latitude, Longitude]\n",
       "Index: []\n",
       "\n",
       "[0 rows x 27 columns]"
      ]
     },
     "execution_count": 33,
     "metadata": {},
     "output_type": "execute_result"
    }
   ],
   "source": [
    "df[(df.uploads==0) & (df['video views']==0)]"
   ]
  },
  {
   "cell_type": "markdown",
   "metadata": {},
   "source": [
    "### The number of channels created yearly : "
   ]
  },
  {
   "cell_type": "code",
   "execution_count": 34,
   "metadata": {},
   "outputs": [
    {
     "data": {
      "text/html": [
       "<div>\n",
       "<style scoped>\n",
       "    .dataframe tbody tr th:only-of-type {\n",
       "        vertical-align: middle;\n",
       "    }\n",
       "\n",
       "    .dataframe tbody tr th {\n",
       "        vertical-align: top;\n",
       "    }\n",
       "\n",
       "    .dataframe thead th {\n",
       "        text-align: right;\n",
       "    }\n",
       "</style>\n",
       "<table border=\"1\" class=\"dataframe\">\n",
       "  <thead>\n",
       "    <tr style=\"text-align: right;\">\n",
       "      <th></th>\n",
       "      <th>created_year</th>\n",
       "      <th>count</th>\n",
       "    </tr>\n",
       "  </thead>\n",
       "  <tbody>\n",
       "    <tr>\n",
       "      <th>0</th>\n",
       "      <td>2014.0</td>\n",
       "      <td>66</td>\n",
       "    </tr>\n",
       "    <tr>\n",
       "      <th>1</th>\n",
       "      <td>2013.0</td>\n",
       "      <td>48</td>\n",
       "    </tr>\n",
       "    <tr>\n",
       "      <th>2</th>\n",
       "      <td>2011.0</td>\n",
       "      <td>48</td>\n",
       "    </tr>\n",
       "    <tr>\n",
       "      <th>3</th>\n",
       "      <td>2016.0</td>\n",
       "      <td>48</td>\n",
       "    </tr>\n",
       "    <tr>\n",
       "      <th>4</th>\n",
       "      <td>2015.0</td>\n",
       "      <td>48</td>\n",
       "    </tr>\n",
       "    <tr>\n",
       "      <th>5</th>\n",
       "      <td>2006.0</td>\n",
       "      <td>45</td>\n",
       "    </tr>\n",
       "    <tr>\n",
       "      <th>6</th>\n",
       "      <td>2012.0</td>\n",
       "      <td>43</td>\n",
       "    </tr>\n",
       "    <tr>\n",
       "      <th>7</th>\n",
       "      <td>2017.0</td>\n",
       "      <td>39</td>\n",
       "    </tr>\n",
       "    <tr>\n",
       "      <th>8</th>\n",
       "      <td>2009.0</td>\n",
       "      <td>30</td>\n",
       "    </tr>\n",
       "    <tr>\n",
       "      <th>9</th>\n",
       "      <td>2008.0</td>\n",
       "      <td>29</td>\n",
       "    </tr>\n",
       "    <tr>\n",
       "      <th>10</th>\n",
       "      <td>2007.0</td>\n",
       "      <td>28</td>\n",
       "    </tr>\n",
       "    <tr>\n",
       "      <th>11</th>\n",
       "      <td>2018.0</td>\n",
       "      <td>26</td>\n",
       "    </tr>\n",
       "    <tr>\n",
       "      <th>12</th>\n",
       "      <td>2020.0</td>\n",
       "      <td>20</td>\n",
       "    </tr>\n",
       "    <tr>\n",
       "      <th>13</th>\n",
       "      <td>2010.0</td>\n",
       "      <td>19</td>\n",
       "    </tr>\n",
       "    <tr>\n",
       "      <th>14</th>\n",
       "      <td>2019.0</td>\n",
       "      <td>18</td>\n",
       "    </tr>\n",
       "    <tr>\n",
       "      <th>15</th>\n",
       "      <td>2021.0</td>\n",
       "      <td>15</td>\n",
       "    </tr>\n",
       "    <tr>\n",
       "      <th>16</th>\n",
       "      <td>2005.0</td>\n",
       "      <td>14</td>\n",
       "    </tr>\n",
       "    <tr>\n",
       "      <th>17</th>\n",
       "      <td>2022.0</td>\n",
       "      <td>3</td>\n",
       "    </tr>\n",
       "  </tbody>\n",
       "</table>\n",
       "</div>"
      ],
      "text/plain": [
       "    created_year  count\n",
       "0         2014.0     66\n",
       "1         2013.0     48\n",
       "2         2011.0     48\n",
       "3         2016.0     48\n",
       "4         2015.0     48\n",
       "5         2006.0     45\n",
       "6         2012.0     43\n",
       "7         2017.0     39\n",
       "8         2009.0     30\n",
       "9         2008.0     29\n",
       "10        2007.0     28\n",
       "11        2018.0     26\n",
       "12        2020.0     20\n",
       "13        2010.0     19\n",
       "14        2019.0     18\n",
       "15        2021.0     15\n",
       "16        2005.0     14\n",
       "17        2022.0      3"
      ]
     },
     "execution_count": 34,
     "metadata": {},
     "output_type": "execute_result"
    }
   ],
   "source": [
    "yearly_channel = df['created_year'].value_counts()\n",
    "yearly_channel = yearly_channel.reset_index()\n",
    "yearly_channel"
   ]
  },
  {
   "cell_type": "code",
   "execution_count": 35,
   "metadata": {},
   "outputs": [
    {
     "data": {
      "text/html": [
       "<div>\n",
       "<style scoped>\n",
       "    .dataframe tbody tr th:only-of-type {\n",
       "        vertical-align: middle;\n",
       "    }\n",
       "\n",
       "    .dataframe tbody tr th {\n",
       "        vertical-align: top;\n",
       "    }\n",
       "\n",
       "    .dataframe thead th {\n",
       "        text-align: right;\n",
       "    }\n",
       "</style>\n",
       "<table border=\"1\" class=\"dataframe\">\n",
       "  <thead>\n",
       "    <tr style=\"text-align: right;\">\n",
       "      <th></th>\n",
       "      <th>created_year</th>\n",
       "      <th>count</th>\n",
       "    </tr>\n",
       "  </thead>\n",
       "  <tbody>\n",
       "    <tr>\n",
       "      <th>16</th>\n",
       "      <td>2005.0</td>\n",
       "      <td>14</td>\n",
       "    </tr>\n",
       "    <tr>\n",
       "      <th>5</th>\n",
       "      <td>2006.0</td>\n",
       "      <td>45</td>\n",
       "    </tr>\n",
       "    <tr>\n",
       "      <th>10</th>\n",
       "      <td>2007.0</td>\n",
       "      <td>28</td>\n",
       "    </tr>\n",
       "    <tr>\n",
       "      <th>9</th>\n",
       "      <td>2008.0</td>\n",
       "      <td>29</td>\n",
       "    </tr>\n",
       "    <tr>\n",
       "      <th>8</th>\n",
       "      <td>2009.0</td>\n",
       "      <td>30</td>\n",
       "    </tr>\n",
       "    <tr>\n",
       "      <th>13</th>\n",
       "      <td>2010.0</td>\n",
       "      <td>19</td>\n",
       "    </tr>\n",
       "    <tr>\n",
       "      <th>2</th>\n",
       "      <td>2011.0</td>\n",
       "      <td>48</td>\n",
       "    </tr>\n",
       "    <tr>\n",
       "      <th>6</th>\n",
       "      <td>2012.0</td>\n",
       "      <td>43</td>\n",
       "    </tr>\n",
       "    <tr>\n",
       "      <th>1</th>\n",
       "      <td>2013.0</td>\n",
       "      <td>48</td>\n",
       "    </tr>\n",
       "    <tr>\n",
       "      <th>0</th>\n",
       "      <td>2014.0</td>\n",
       "      <td>66</td>\n",
       "    </tr>\n",
       "    <tr>\n",
       "      <th>4</th>\n",
       "      <td>2015.0</td>\n",
       "      <td>48</td>\n",
       "    </tr>\n",
       "    <tr>\n",
       "      <th>3</th>\n",
       "      <td>2016.0</td>\n",
       "      <td>48</td>\n",
       "    </tr>\n",
       "    <tr>\n",
       "      <th>7</th>\n",
       "      <td>2017.0</td>\n",
       "      <td>39</td>\n",
       "    </tr>\n",
       "    <tr>\n",
       "      <th>11</th>\n",
       "      <td>2018.0</td>\n",
       "      <td>26</td>\n",
       "    </tr>\n",
       "    <tr>\n",
       "      <th>14</th>\n",
       "      <td>2019.0</td>\n",
       "      <td>18</td>\n",
       "    </tr>\n",
       "    <tr>\n",
       "      <th>12</th>\n",
       "      <td>2020.0</td>\n",
       "      <td>20</td>\n",
       "    </tr>\n",
       "    <tr>\n",
       "      <th>15</th>\n",
       "      <td>2021.0</td>\n",
       "      <td>15</td>\n",
       "    </tr>\n",
       "    <tr>\n",
       "      <th>17</th>\n",
       "      <td>2022.0</td>\n",
       "      <td>3</td>\n",
       "    </tr>\n",
       "  </tbody>\n",
       "</table>\n",
       "</div>"
      ],
      "text/plain": [
       "    created_year  count\n",
       "16        2005.0     14\n",
       "5         2006.0     45\n",
       "10        2007.0     28\n",
       "9         2008.0     29\n",
       "8         2009.0     30\n",
       "13        2010.0     19\n",
       "2         2011.0     48\n",
       "6         2012.0     43\n",
       "1         2013.0     48\n",
       "0         2014.0     66\n",
       "4         2015.0     48\n",
       "3         2016.0     48\n",
       "7         2017.0     39\n",
       "11        2018.0     26\n",
       "14        2019.0     18\n",
       "12        2020.0     20\n",
       "15        2021.0     15\n",
       "17        2022.0      3"
      ]
     },
     "execution_count": 35,
     "metadata": {},
     "output_type": "execute_result"
    }
   ],
   "source": [
    "yearly_channel = yearly_channel.sort_values(by='created_year', ascending=True)\n",
    "yearly_channel"
   ]
  },
  {
   "cell_type": "code",
   "execution_count": 36,
   "metadata": {},
   "outputs": [
    {
     "data": {
      "image/png": "[encoded data removed]",
      "text/plain": [
       "<Figure size 1000x600 with 1 Axes>"
      ]
     },
     "metadata": {},
     "output_type": "display_data"
    }
   ],
   "source": [
    "plt.figure(figsize=(10, 6))\n",
    "plt.plot(yearly_channel['created_year'], yearly_channel['count'], marker='o')\n",
    "plt.title('Number of channels created each year')\n",
    "plt.xlabel('Year')\n",
    "plt.ylabel('Number of channels created')\n",
    "plt.grid(True)\n",
    "plt.show()"
   ]
  },
  {
   "cell_type": "markdown",
   "metadata": {},
   "source": [
    "We observe significant fluctuations in the annual creation of channels. Notably, there was a sharp peak in channel creation in 2014, followed by a gradual decline in subsequent years."
   ]
  },
  {
   "cell_type": "code",
   "execution_count": 37,
   "metadata": {},
   "outputs": [
    {
     "data": {
      "image/png": "[encoded data removed]",
      "text/plain": [
       "<Figure size 1000x600 with 1 Axes>"
      ]
     },
     "metadata": {},
     "output_type": "display_data"
    }
   ],
   "source": [
    "\n",
    "plt.figure(figsize=(10, 6))  \n",
    "\n",
    "plt.scatter(df['subscribers'], df['video views'], alpha=0.5)  \n",
    "plt.title('Scatter Plot of Subscribers vs. Number of Views')\n",
    "plt.xlabel('Number of Subscribers')\n",
    "plt.ylabel('Number of Views')\n",
    "plt.grid(True)\n",
    "\n",
    "plt.show()  \n"
   ]
  },
  {
   "cell_type": "markdown",
   "metadata": {},
   "source": [
    "When the number of subscribers increases the number of views increases.\n",
    "Majority of the number of subscribers goes within the range of from 0.1e8 to 0.5e8."
   ]
  },
  {
   "cell_type": "markdown",
   "metadata": {},
   "source": [
    "## The distribution of channel types : "
   ]
  },
  {
   "cell_type": "code",
   "execution_count": 38,
   "metadata": {},
   "outputs": [
    {
     "data": {
      "text/plain": [
       "channel_type\n",
       "Entertainment    193\n",
       "Music            125\n",
       "People            51\n",
       "Games             50\n",
       "Education         39\n",
       "Comedy            30\n",
       "Film              29\n",
       "News              26\n",
       "Howto             14\n",
       "Tech              13\n",
       "Sports            10\n",
       "Animals            3\n",
       "Nonprofit          2\n",
       "Autos              2\n",
       "Name: count, dtype: int64"
      ]
     },
     "execution_count": 38,
     "metadata": {},
     "output_type": "execute_result"
    }
   ],
   "source": [
    "channel_type = df['channel_type'].value_counts()\n",
    "channel_type"
   ]
  },
  {
   "cell_type": "code",
   "execution_count": 39,
   "metadata": {},
   "outputs": [
    {
     "data": {
      "image/png": "[encoded data removed]",
      "text/plain": [
       "<Figure size 1000x600 with 1 Axes>"
      ]
     },
     "metadata": {},
     "output_type": "display_data"
    }
   ],
   "source": [
    "plt.figure(figsize=(10,6))\n",
    "\n",
    "plt.pie(channel_type[:-3],labels=channel_type.index[:-3],autopct='%1.1f%%', startangle=140)\n",
    "plt.title('Distribution of channels')\n",
    "plt.show()  \n"
   ]
  },
  {
   "cell_type": "markdown",
   "metadata": {},
   "source": [
    "We notice that entertainment and Music plays the biggest role in the Youtube platform."
   ]
  },
  {
   "cell_type": "markdown",
   "metadata": {},
   "source": [
    "### Total view per country : "
   ]
  },
  {
   "cell_type": "code",
   "execution_count": 40,
   "metadata": {},
   "outputs": [
    {
     "data": {
      "text/plain": [
       "Country\n",
       "United States     2.606657e+12\n",
       "India             2.144780e+12\n",
       "Brazil            2.898356e+11\n",
       "United Kingdom    2.703032e+11\n",
       "Russia            2.282950e+11\n",
       "Name: video views, dtype: float64"
      ]
     },
     "execution_count": 40,
     "metadata": {},
     "output_type": "execute_result"
    }
   ],
   "source": [
    "country_view = df.groupby(['Country'])['video views'].sum()\n",
    "country_view.sort_values(ascending=False, inplace = True)\n",
    "country_view.head()\n"
   ]
  },
  {
   "cell_type": "markdown",
   "metadata": {},
   "source": [
    "The top number of views is seen in the United States, India, Brazil, United Kingdom and Russia."
   ]
  },
  {
   "cell_type": "code",
   "execution_count": 41,
   "metadata": {},
   "outputs": [
    {
     "data": {
      "text/plain": [
       "Text(0.5, 1.0, 'The total view per country')"
      ]
     },
     "execution_count": 41,
     "metadata": {},
     "output_type": "execute_result"
    },
    {
     "data": {
      "image/png": "[encoded data removed]",
      "text/plain": [
       "<Figure size 640x480 with 1 Axes>"
      ]
     },
     "metadata": {},
     "output_type": "display_data"
    }
   ],
   "source": [
    "plt.bar(country_view.index[:10], country_view[:10])\n",
    "plt.ylabel('Total view')\n",
    "plt.xlabel('Country')\n",
    "plt.xticks(rotation=45)\n",
    "plt.title('The total view per country')"
   ]
  },
  {
   "cell_type": "code",
   "execution_count": 42,
   "metadata": {},
   "outputs": [
    {
     "data": {
      "text/plain": [
       "Country\n",
       "United States     196\n",
       "India             144\n",
       "Brazil             33\n",
       "United Kingdom     27\n",
       "Indonesia          20\n",
       "Mexico             17\n",
       "Russia             13\n",
       "Thailand           13\n",
       "Argentina          11\n",
       "Spain              11\n",
       "Name: count, dtype: int64"
      ]
     },
     "execution_count": 42,
     "metadata": {},
     "output_type": "execute_result"
    }
   ],
   "source": [
    "top_countries = df['Country'].value_counts().head(10)\n",
    "top_countries"
   ]
  },
  {
   "cell_type": "code",
   "execution_count": 43,
   "metadata": {},
   "outputs": [
    {
     "data": {
      "image/png": "[encoded data removed]",
      "text/plain": [
       "<Figure size 640x480 with 1 Axes>"
      ]
     },
     "metadata": {},
     "output_type": "display_data"
    }
   ],
   "source": [
    "top_countries.plot(kind='bar',color= 'darkblue')\n",
    "plt.xlabel('Country')\n",
    "plt.ylabel('Number of channels')\n",
    "plt.xticks(rotation=45)\n",
    "plt.title('Number of channels per country')\n",
    "plt.show()"
   ]
  },
  {
   "cell_type": "markdown",
   "metadata": {},
   "source": [
    "The united states has the most number of channels."
   ]
  },
  {
   "cell_type": "code",
   "execution_count": 44,
   "metadata": {},
   "outputs": [
    {
     "data": {
      "text/plain": [
       "<Axes: ylabel='Youtuber,Country'>"
      ]
     },
     "execution_count": 44,
     "metadata": {},
     "output_type": "execute_result"
    },
    {
     "data": {
      "image/png": "[encoded data removed]",
      "text/plain": [
       "<Figure size 640x480 with 1 Axes>"
      ]
     },
     "metadata": {},
     "output_type": "display_data"
    }
   ],
   "source": [
    "df.groupby(['Youtuber','Country'])['subscribers'].sum().sort_values(ascending=True)[-10:].plot(kind='barh')"
   ]
  },
  {
   "cell_type": "markdown",
   "metadata": {},
   "source": [
    "## We can see that T-Series India is the highest Regional Influencer. These are the top 10 Regional Influencers."
   ]
  }
 ],
 "metadata": {
  "kernelspec": {
   "display_name": "Python 3",
   "language": "python",
   "name": "python3"
  },
  "language_info": {
   "codemirror_mode": {
    "name": "ipython",
    "version": 3
   },
   "file_extension": ".py",
   "mimetype": "text/x-python",
   "name": "python",
   "nbconvert_exporter": "python",
   "pygments_lexer": "ipython3",
   "version": "3.11.1"
  },
  "orig_nbformat": 4
 },
 "nbformat": 4,
 "nbformat_minor": 2
}
